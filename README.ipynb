{
 "cells": [
  {
   "cell_type": "markdown",
   "metadata": {},
   "source": [
    "# soilgrids\n",
    "\n",
    "This package provides a minimal wrapper for the ISRIC Soilgrids API, allowing \n",
    "users to query soil properties by latitude/longitude and to perform basic \n",
    "analyses on the returned data.\n",
    "\n",
    "Functions:\n",
    "\n",
    "*   `get_soilgrids()`: Provides a simple wrapper for the /properties/query\n",
    "    API endpoint, parsing the geojson response into a pandas DataFrame.\n",
    "        \n",
    "Classes:\n",
    "\n",
    "*   `SoilGrids()`: Provides methods for reading data from Soilgrids and basic \n",
    "    including utilities for aggregating and analysing the returned data.\n",
    "\n",
    "Useful links:\n",
    "\n",
    "*   Documentation for the API: <https://rest.isric.org/soilgrids/v2.0/docs>\n",
    "*   ISRIC REST entry page, including fair use policy: <https://rest.isric.org>\n",
    "*   ISRIC data and software policy: <https://www.isric.org/about/data-policy>\n",
    "*   Soilgrids FAQ: <https://www.isric.org/explore/soilgrids/faq-soilgrids>\n",
    "\n",
    "## Querying data using `SoilGrids`\n",
    "\n",
    "The following code reads in the mean values for clay, sand, silt and organic \n",
    "carbon stock (ocs) in the top 30cm of soil for a random set of 50 points \n",
    "within roughly 25km of \n",
    "[Herning, Denmark](https://en.wikipedia.org/wiki/Herning). Note that points can \n",
    "be queried at a maximum rate of 5/minute, so the following code takes about 10 \n",
    "minutes to run:"
   ]
  },
  {
   "cell_type": "code",
   "execution_count": 9,
   "metadata": {},
   "outputs": [
    {
     "data": {
      "text/markdown": [
       "|     lat |     lon | soil_property   | mapped_units   | target_units   | depth   |   mean |\n",
       "|--------:|--------:|:----------------|:---------------|:---------------|:--------|-------:|\n",
       "| 56.3866 | 8.88611 | clay            | g/kg           | %              | 0-5cm   |    120 |\n",
       "| 56.3866 | 8.88611 | clay            | g/kg           | %              | 5-15cm  |    117 |\n",
       "| 56.3866 | 8.88611 | clay            | g/kg           | %              | 15-30cm |    111 |\n",
       "| 56.3866 | 8.88611 | ocs             | t/ha           | kg/m²          | 0-30cm  |     69 |\n",
       "| 56.3866 | 8.88611 | sand            | g/kg           | %              | 0-5cm   |    719 |\n",
       "| 56.3866 | 8.88611 | sand            | g/kg           | %              | 5-15cm  |    727 |\n",
       "| 56.3866 | 8.88611 | sand            | g/kg           | %              | 15-30cm |    726 |\n",
       "| 56.3866 | 8.88611 | silt            | g/kg           | %              | 0-5cm   |    161 |\n",
       "| 56.3866 | 8.88611 | silt            | g/kg           | %              | 5-15cm  |    156 |\n",
       "| 56.3866 | 8.88611 | silt            | g/kg           | %              | 15-30cm |    163 |"
      ],
      "text/plain": [
       "<IPython.core.display.Markdown object>"
      ]
     },
     "metadata": {},
     "output_type": "display_data"
    }
   ],
   "source": [
    "import logging\n",
    "import pandas as pd\n",
    "from IPython.display import Markdown as md\n",
    "from soilgrids import SoilGrids\n",
    "\n",
    "# Turn off console logs for cleaner notebook output\n",
    "logging.getLogger('soilgrids').setLevel(logging.ERROR)\n",
    "\n",
    "# Helper for displaying tables as markdown\n",
    "show = lambda df: display(md(df.to_markdown(index=False)))\n",
    "\n",
    "sg = SoilGrids()\n",
    "\n",
    "sg.get_points_sample(\n",
    "    50,\n",
    "    lat_min=56.225297, lat_max=55.958103,\n",
    "    lon_min=8.662215, lon_max=9.354390,\n",
    "    soil_property=['clay', 'sand', 'silt', 'ocs'],\n",
    "    depth=['0-5cm', '5-15cm', '15-30cm', '0-30cm'],\n",
    "    value='mean'\n",
    ")\n",
    "\n",
    "# For brevity, only a subset of the data is shown\n",
    "show(data[0:15].filter([\n",
    "    'lat', 'lon', 'soil_property', 'mapped_units', \n",
    "    'target_units', 'depth', 'mean'\n",
    "]))"
   ]
  },
  {
   "cell_type": "markdown",
   "metadata": {},
   "source": [
    "## Get the property (clay, sand, silt) with the highest value for each point\n",
    "\n",
    "The `SoilGrids` class provides a handy utility `main_properties()` for finding\n",
    "the most abundant soil type (i.e. property) for each point. In this case, we\n",
    "see that the Herning region is quite sandy:"
   ]
  },
  {
   "cell_type": "code",
   "execution_count": 10,
   "metadata": {},
   "outputs": [
    {
     "data": {
      "text/markdown": [
       "|     lat |     lon | soil_property   |\n",
       "|--------:|--------:|:----------------|\n",
       "| 56.227  | 8.95852 | sand            |\n",
       "| 56.2282 | 8.78386 | sand            |\n",
       "| 56.239  | 8.8889  | sand            |\n",
       "| 56.2432 | 9.01111 | sand            |\n",
       "| 56.2581 | 8.76906 | sand            |\n",
       "| 56.2614 | 9.31379 | sand            |\n",
       "| 56.2721 | 9.08447 | sand            |\n",
       "| 56.2824 | 9.16308 | sand            |\n",
       "| 56.2889 | 8.81124 | sand            |\n",
       "| 56.2929 | 8.72278 | sand            |\n",
       "| 56.2946 | 8.96107 | sand            |\n",
       "| 56.3012 | 9.21258 | sand            |\n",
       "| 56.302  | 8.86036 | sand            |\n",
       "| 56.3059 | 9.27081 | sand            |\n",
       "| 56.3111 | 8.72808 | sand            |\n",
       "| 56.3184 | 9.05734 | sand            |\n",
       "| 56.3209 | 9.108   | sand            |\n",
       "| 56.3273 | 8.74746 | sand            |\n",
       "| 56.3285 | 8.86959 | sand            |\n",
       "| 56.329  | 9.02623 | sand            |\n",
       "| 56.3359 | 8.91845 | sand            |\n",
       "| 56.3488 | 9.13769 | sand            |\n",
       "| 56.3513 | 9.26886 | sand            |\n",
       "| 56.3524 | 8.88601 | sand            |\n",
       "| 56.3581 | 8.96305 | sand            |\n",
       "| 56.3661 | 9.31728 | sand            |\n",
       "| 56.3666 | 8.93146 | sand            |\n",
       "| 56.3691 | 8.93212 | sand            |\n",
       "| 56.3707 | 9.31411 | sand            |\n",
       "| 56.3735 | 9.05815 | sand            |\n",
       "| 56.3759 | 8.79767 | sand            |\n",
       "| 56.3892 | 8.86646 | sand            |\n",
       "| 56.3925 | 9.27119 | sand            |\n",
       "| 56.3937 | 9.02506 | sand            |\n",
       "| 56.3949 | 8.80218 | sand            |\n",
       "| 56.4194 | 9.28738 | sand            |\n",
       "| 56.4219 | 8.82862 | sand            |\n",
       "| 56.4322 | 9.05632 | sand            |\n",
       "| 56.4358 | 8.69287 | sand            |\n",
       "| 56.446  | 8.69823 | sand            |\n",
       "| 56.4538 | 8.751   | sand            |\n",
       "| 56.4597 | 9.28579 | sand            |\n",
       "| 56.4727 | 8.95341 | sand            |\n",
       "| 56.4727 | 9.0427  | sand            |\n",
       "| 56.4734 | 8.71213 | sand            |\n",
       "| 56.4775 | 9.23639 | sand            |\n",
       "| 56.4795 | 8.8428  | sand            |\n",
       "| 56.4816 | 9.12634 | sand            |\n",
       "| 56.4885 | 9.35333 | sand            |\n",
       "| 56.4891 | 8.81222 | sand            |"
      ],
      "text/plain": [
       "<IPython.core.display.Markdown object>"
      ]
     },
     "metadata": {},
     "output_type": "display_data"
    }
   ],
   "source": [
    "show(sg.main_properties())"
   ]
  },
  {
   "cell_type": "markdown",
   "metadata": {},
   "source": [
    "## Relationship between clay, sand, silt and organic carbon stock\n",
    "\n",
    "The `ocs_correlation()` method fits and displays summary statistics for a linear \n",
    "model with sand, clay and silt as predictors and OCS as the response variable. \n",
    "Based on the R-squared values returned in the summary, it doesn't look like\n",
    "these soil properties are particularly good predictors for OCS in this case:"
   ]
  },
  {
   "cell_type": "code",
   "execution_count": 11,
   "metadata": {},
   "outputs": [
    {
     "name": "stdout",
     "output_type": "stream",
     "text": [
      "\n",
      "Call:\n",
      "lm(formula = clay + sand + silt ~ ocs, data = input_data)\n",
      "\n",
      "Residuals:\n",
      "    Min      1Q  Median      3Q     Max \n",
      "-1.2765 -0.2709 -0.2256  0.7589  1.7634 \n",
      "\n",
      "Coefficients:\n",
      "             Estimate Std. Error t value Pr(>|t|)    \n",
      "(Intercept) 1.000e+03  1.123e+00 890.668   <2e-16 ***\n",
      "ocs         4.424e-03  1.967e-02   0.225    0.823    \n",
      "---\n",
      "Signif. codes:  0 ‘***’ 0.001 ‘**’ 0.01 ‘*’ 0.05 ‘.’ 0.1 ‘ ’ 1\n",
      "\n",
      "Residual standard error: 0.8302 on 48 degrees of freedom\n",
      "Multiple R-squared:  0.001053,\tAdjusted R-squared:  -0.01976 \n",
      "F-statistic: 0.05058 on 1 and 48 DF,  p-value: 0.823\n",
      "\n",
      "\n"
     ]
    }
   ],
   "source": [
    "print(sg.ocs_correlation(capture_output=True))"
   ]
  },
  {
   "cell_type": "markdown",
   "metadata": {},
   "source": [
    "## Disclaimers\n",
    "\n",
    "*   Use of this package is subject to [ISRIC data and software policy](https://www.isric.org/about/data-policy).\n",
    "*   This package is licensed as [GPL-2](LICENSE)."
   ]
  }
 ],
 "metadata": {
  "language_info": {
   "name": "python"
  }
 },
 "nbformat": 4,
 "nbformat_minor": 2
}
