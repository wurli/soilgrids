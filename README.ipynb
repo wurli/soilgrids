{
 "cells": [
  {
   "cell_type": "markdown",
   "metadata": {},
   "source": [
    "# soilgrids\n",
    "\n",
    "This package provides a minimal wrapper for the ISRIC Soilgrids API, allowing \n",
    "users to query soil properties by latitude/longitude and perform basic \n",
    "analyses on the returned data.\n",
    "\n",
    "Functions:\n",
    "\n",
    "*   `get_soilgrids()`: Provides a simple wrapper for the /properties/query\n",
    "    API endpoint, parsing the geojson response into a pandas DataFrame.\n",
    "        \n",
    "Classes:\n",
    "\n",
    "*   `SoilGrids()`: Provides methods for reading data from Soilgrids and basic \n",
    "    including utilities for aggregating and analysing the returned data.\n",
    "\n",
    "Useful links:\n",
    "\n",
    "*   Documentation for the API: <https://rest.isric.org/soilgrids/v2.0/docs>\n",
    "*   ISRIC REST entry page, including fair use policy: <https://rest.isric.org>\n",
    "*   ISRIC data and software policy: <https://www.isric.org/about/data-policy>\n",
    "*   Soilgrids FAQ: <https://www.isric.org/explore/soilgrids/faq-soilgrids>\n",
    "\n",
    "## Querying data using `SoilGrids`\n",
    "\n",
    "The following code reads in the mean values for clay, sand, silt and organic \n",
    "carbon stock (ocs) in the top 30cm of soil for a random set of 50 points \n",
    "within roughly 25km of \n",
    "[Herning, Denmark](https://en.wikipedia.org/wiki/Herning). Note that points can \n",
    "be queried at a maximum rate of 5/minute, so the following code takes about 10 \n",
    "minutes to run:"
   ]
  },
  {
   "cell_type": "code",
   "execution_count": 1,
   "metadata": {},
   "outputs": [
    {
     "data": {
      "text/markdown": [
       "|     lat |     lon | soil_property   | mapped_units   | target_units   | depth   |   mean |\n",
       "|--------:|--------:|:----------------|:---------------|:---------------|:--------|-------:|\n",
       "| 56.0024 | 9.17168 | clay            | g/kg           | %              | 0-5cm   |     93 |\n",
       "| 56.0024 | 9.17168 | clay            | g/kg           | %              | 5-15cm  |     90 |\n",
       "| 56.0024 | 9.17168 | clay            | g/kg           | %              | 15-30cm |     85 |\n",
       "| 56.0024 | 9.17168 | ocs             | t/ha           | kg/m²          | 0-30cm  |     69 |\n",
       "| 56.0024 | 9.17168 | sand            | g/kg           | %              | 0-5cm   |    802 |\n",
       "| 56.0024 | 9.17168 | sand            | g/kg           | %              | 5-15cm  |    804 |\n",
       "| 56.0024 | 9.17168 | sand            | g/kg           | %              | 15-30cm |    820 |\n",
       "| 56.0024 | 9.17168 | silt            | g/kg           | %              | 0-5cm   |    105 |\n",
       "| 56.0024 | 9.17168 | silt            | g/kg           | %              | 5-15cm  |    106 |\n",
       "| 56.0024 | 9.17168 | silt            | g/kg           | %              | 15-30cm |     95 |\n",
       "| 56.1016 | 8.93631 | clay            | g/kg           | %              | 0-5cm   |     63 |\n",
       "| 56.1016 | 8.93631 | clay            | g/kg           | %              | 5-15cm  |     58 |\n",
       "| 56.1016 | 8.93631 | clay            | g/kg           | %              | 15-30cm |     83 |\n",
       "| 56.1016 | 8.93631 | ocs             | t/ha           | kg/m²          | 0-30cm  |     59 |\n",
       "| 56.1016 | 8.93631 | sand            | g/kg           | %              | 0-5cm   |    805 |"
      ],
      "text/plain": [
       "<IPython.core.display.Markdown object>"
      ]
     },
     "metadata": {},
     "output_type": "display_data"
    }
   ],
   "source": [
    "import logging\n",
    "import pandas as pd\n",
    "from IPython.display import Markdown as md\n",
    "from soilgrids import SoilGrids\n",
    "\n",
    "# Turn off console logs for cleaner notebook output\n",
    "logging.getLogger('soilgrids').setLevel(logging.ERROR)\n",
    "\n",
    "# Helper for displaying tables as markdown\n",
    "show = lambda df: display(md(df.to_markdown(index=False)))\n",
    "\n",
    "sg = SoilGrids()\n",
    "\n",
    "sg.get_points_sample(\n",
    "    50,\n",
    "    lat_a=56.225297, lon_a=8.662215,\n",
    "    lat_b=55.958103, lon_b=9.354390,\n",
    "    soil_property=['clay', 'sand', 'silt', 'ocs'],\n",
    "    depth=['0-5cm', '5-15cm', '15-30cm', '0-30cm'],\n",
    "    value='mean'\n",
    ")\n",
    "\n",
    "# For brevity, only a subset of the data is shown\n",
    "show(sg.data[0:15].filter([\n",
    "    'lat', 'lon', 'soil_property', 'mapped_units', \n",
    "    'target_units', 'depth', 'mean'\n",
    "]))"
   ]
  },
  {
   "cell_type": "markdown",
   "metadata": {},
   "source": [
    "## Get the property (clay, sand, silt) with the highest value for each point\n",
    "\n",
    "The `SoilGrids` class provides a handy utility `main_properties()` for finding\n",
    "the most abundant soil type (i.e. property) for each point. In this case, we\n",
    "see that the Herning region is quite sandy:"
   ]
  },
  {
   "cell_type": "code",
   "execution_count": 2,
   "metadata": {},
   "outputs": [
    {
     "data": {
      "text/markdown": [
       "|     lat |     lon | soil_property   |\n",
       "|--------:|--------:|:----------------|\n",
       "| 55.9681 | 9.19413 | sand            |\n",
       "| 55.969  | 8.84612 | sand            |\n",
       "| 55.9736 | 9.26458 | sand            |\n",
       "| 55.988  | 9.06893 | sand            |\n",
       "| 56.0024 | 9.17168 | sand            |\n",
       "| 56.0071 | 8.73347 | sand            |\n",
       "| 56.0079 | 9.1555  | sand            |\n",
       "| 56.0115 | 9.19478 | sand            |\n",
       "| 56.0116 | 9.11962 | sand            |\n",
       "| 56.0129 | 9.06321 | sand            |\n",
       "| 56.0152 | 9.09177 | sand            |\n",
       "| 56.0209 | 9.04625 | sand            |\n",
       "| 56.0215 | 9.01066 | sand            |\n",
       "| 56.0218 | 9.32185 | sand            |\n",
       "| 56.0227 | 8.77494 | sand            |\n",
       "| 56.0245 | 8.98394 | sand            |\n",
       "| 56.0293 | 8.80021 | sand            |\n",
       "| 56.0312 | 9.20504 | sand            |\n",
       "| 56.0312 | 9.33958 | sand            |\n",
       "| 56.0322 | 9.13423 | sand            |\n",
       "| 56.0327 | 8.69833 | sand            |\n",
       "| 56.0335 | 8.82781 | sand            |\n",
       "| 56.0421 | 8.89465 | sand            |\n",
       "| 56.0457 | 9.2178  | sand            |\n",
       "| 56.0524 | 9.05007 | sand            |\n",
       "| 56.0591 | 9.0177  | sand            |\n",
       "| 56.0706 | 9.04175 | sand            |\n",
       "| 56.0731 | 9.1996  | sand            |\n",
       "| 56.0768 | 9.11822 | sand            |\n",
       "| 56.0801 | 8.89161 | sand            |\n",
       "| 56.0936 | 8.88005 | sand            |\n",
       "| 56.1016 | 8.93631 | sand            |\n",
       "| 56.1029 | 9.29378 | sand            |\n",
       "| 56.1034 | 9.1627  | sand            |\n",
       "| 56.1084 | 9.21805 | sand            |\n",
       "| 56.1126 | 8.80794 | sand            |\n",
       "| 56.1153 | 8.81545 | sand            |\n",
       "| 56.1223 | 9.24917 | sand            |\n",
       "| 56.1239 | 8.72794 | sand            |\n",
       "| 56.124  | 8.96254 | sand            |\n",
       "| 56.127  | 8.91474 | sand            |\n",
       "| 56.1365 | 9.0808  | sand            |\n",
       "| 56.1462 | 8.93131 | clay            |\n",
       "| 56.1644 | 9.26652 | sand            |\n",
       "| 56.1707 | 8.92046 | sand            |\n",
       "| 56.177  | 8.82983 | sand            |\n",
       "| 56.1878 | 9.00154 | sand            |\n",
       "| 56.2074 | 9.23711 | sand            |\n",
       "| 56.2128 | 9.33269 | sand            |\n",
       "| 56.2192 | 8.77554 | sand            |"
      ],
      "text/plain": [
       "<IPython.core.display.Markdown object>"
      ]
     },
     "metadata": {},
     "output_type": "display_data"
    }
   ],
   "source": [
    "show(sg.main_properties())"
   ]
  },
  {
   "cell_type": "markdown",
   "metadata": {},
   "source": [
    "## Relationship between clay, sand, silt and organic carbon stock\n",
    "\n",
    "The `ocs_correlation()` method fits and displays summary statistics for a linear \n",
    "model with sand, clay and silt as predictors and OCS as the response variable. \n",
    "Based on the R-squared values returned in the summary, it doesn't look like \n",
    "these soil properties are particularly good predictors for OCS in this case:"
   ]
  },
  {
   "cell_type": "code",
   "execution_count": 3,
   "metadata": {},
   "outputs": [
    {
     "name": "stdout",
     "output_type": "stream",
     "text": [
      "\n",
      "Call:\n",
      "lm(formula = clay + sand + silt ~ ocs, data = soilgrids_summary, \n",
      "    na.action = na.omit)\n",
      "\n",
      "Residuals:\n",
      "     Min       1Q   Median       3Q      Max \n",
      "-1.90210 -0.83803  0.07654  0.14061  2.11926 \n",
      "\n",
      "Coefficients:\n",
      "              Estimate Std. Error t value Pr(>|t|)    \n",
      "(Intercept) 1000.55348    1.25964 794.314   <2e-16 ***\n",
      "ocs           -0.01068    0.02040  -0.523    0.603    \n",
      "---\n",
      "Signif. codes:  0 ‘***’ 0.001 ‘**’ 0.01 ‘*’ 0.05 ‘.’ 0.1 ‘ ’ 1\n",
      "\n",
      "Residual standard error: 0.948 on 47 degrees of freedom\n",
      "Multiple R-squared:  0.005796,\tAdjusted R-squared:  -0.01536 \n",
      "F-statistic: 0.274 on 1 and 47 DF,  p-value: 0.6031\n",
      "\n",
      "\n"
     ]
    }
   ],
   "source": [
    "print(sg.ocs_correlation(capture_output=True))"
   ]
  },
  {
   "cell_type": "markdown",
   "metadata": {},
   "source": [
    "## Additional features\n",
    "The `plot_ocs_property_relationships()` method can be used to obtain a graphical\n",
    "representation of the relationships between OCS and the other soil properties \n",
    "present in the data. These are displayed as scatterplots with overlayed lines\n",
    "of best fit, i.e. the values predicted by a fitted linear regression.\n",
    "\n",
    "In this case we can see that there is no panel where the plotted points show\n",
    "strong agreement with the fitted line. This agrees with the low value for \n",
    "R-squared obtained earlier:"
   ]
  },
  {
   "cell_type": "code",
   "execution_count": 4,
   "metadata": {},
   "outputs": [
    {
     "data": {
      "image/png": "[encoded data removed]",
      "text/plain": [
       "<seaborn._core.plot.Plot at 0x1224762d0>"
      ]
     },
     "execution_count": 4,
     "metadata": {
      "image/png": {
       "height": 378.25,
       "width": 509.15
      }
     },
     "output_type": "execute_result"
    }
   ],
   "source": [
    "sg.plot_ocs_property_relationships()"
   ]
  },
  {
   "cell_type": "markdown",
   "metadata": {},
   "source": [
    "The `plot_property_map()` method can display the points as they appear \n",
    "geographically. The points are sized according to the value of the property\n",
    "you choose to plot, and the tooltip displays the values for other properties\n",
    "present in the data:"
   ]
  },
  {
   "cell_type": "code",
   "execution_count": 6,
   "metadata": {},
   "outputs": [
    {
     "data": {
      "application/vnd.plotly.v1+json": {
       "config": {
        "plotlyServerURL": "https://plot.ly"
       },
       "data": [
        {
         "hovertext": [
          "<b>ocs: 54.0t/ha</b><br><i>clay: 62.0g/kg</i><br><i>sand: 863.0g/kg</i><br><i>silt: 75.0g/kg</i>",
          "<b>ocs: 59.0t/ha</b><br><i>clay: 52.0g/kg</i><br><i>sand: 858.0g/kg</i><br><i>silt: 89.0g/kg</i>",
          "<b>ocs: 66.0t/ha</b><br><i>clay: 63.0g/kg</i><br><i>sand: 846.0g/kg</i><br><i>silt: 92.0g/kg</i>",
          "<b>ocs: 61.0t/ha</b><br><i>clay: 51.0g/kg</i><br><i>sand: 852.0g/kg</i><br><i>silt: 96.0g/kg</i>",
          "<b>ocs: 69.0t/ha</b><br><i>clay: 88.0g/kg</i><br><i>sand: 812.0g/kg</i><br><i>silt: 101.0g/kg</i>",
          "<b>ocs: 75.0t/ha</b><br><i>clay: 55.0g/kg</i><br><i>sand: 846.0g/kg</i><br><i>silt: 98.0g/kg</i>",
          "<b>ocs: 62.0t/ha</b><br><i>clay: 52.0g/kg</i><br><i>sand: 847.0g/kg</i><br><i>silt: 101.0g/kg</i>",
          "<b>ocs: 53.0t/ha</b><br><i>clay: 50.0g/kg</i><br><i>sand: 876.0g/kg</i><br><i>silt: 73.0g/kg</i>",
          "<b>ocs: 51.0t/ha</b><br><i>clay: 51.0g/kg</i><br><i>sand: 854.0g/kg</i><br><i>silt: 95.0g/kg</i>",
          "<b>ocs: 64.0t/ha</b><br><i>clay: 54.0g/kg</i><br><i>sand: 865.0g/kg</i><br><i>silt: 81.0g/kg</i>",
          "<b>ocs: 56.0t/ha</b><br><i>clay: 52.0g/kg</i><br><i>sand: 855.0g/kg</i><br><i>silt: 93.0g/kg</i>",
          "<b>ocs: 59.0t/ha</b><br><i>clay: 57.0g/kg</i><br><i>sand: 868.0g/kg</i><br><i>silt: 75.0g/kg</i>",
          "<b>ocs: 52.0t/ha</b><br><i>clay: 37.0g/kg</i><br><i>sand: 870.0g/kg</i><br><i>silt: 92.0g/kg</i>",
          "<b>ocs: 53.0t/ha</b><br><i>clay: 78.0g/kg</i><br><i>sand: 793.0g/kg</i><br><i>silt: 129.0g/kg</i>",
          "<b>ocs: 67.0t/ha</b><br><i>clay: 77.0g/kg</i><br><i>sand: 659.0g/kg</i><br><i>silt: 263.0g/kg</i>",
          "<b>ocs: 55.0t/ha</b><br><i>clay: 45.0g/kg</i><br><i>sand: 858.0g/kg</i><br><i>silt: 96.0g/kg</i>",
          "<b>ocs: 62.0t/ha</b><br><i>clay: 80.0g/kg</i><br><i>sand: 786.0g/kg</i><br><i>silt: 134.0g/kg</i>",
          "<b>ocs: 65.0t/ha</b><br><i>clay: 60.0g/kg</i><br><i>sand: 838.0g/kg</i><br><i>silt: 102.0g/kg</i>",
          "<b>ocs: 57.0t/ha</b><br><i>clay: 71.0g/kg</i><br><i>sand: 807.0g/kg</i><br><i>silt: 121.0g/kg</i>",
          "<b>ocs: 61.0t/ha</b><br><i>clay: 55.0g/kg</i><br><i>sand: 864.0g/kg</i><br><i>silt: 83.0g/kg</i>",
          "<b>ocs: 60.0t/ha</b><br><i>clay: 50.0g/kg</i><br><i>sand: 857.0g/kg</i><br><i>silt: 93.0g/kg</i>",
          "<b>ocs: 56.0t/ha</b><br><i>clay: 67.0g/kg</i><br><i>sand: 820.0g/kg</i><br><i>silt: 112.0g/kg</i>",
          "<b>ocs: 65.0t/ha</b><br><i>clay: 74.0g/kg</i><br><i>sand: 819.0g/kg</i><br><i>silt: 106.0g/kg</i>",
          "<b>ocs: 78.0t/ha</b><br><i>clay: 50.0g/kg</i><br><i>sand: 848.0g/kg</i><br><i>silt: 101.0g/kg</i>",
          "<b>ocs: 61.0t/ha</b><br><i>clay: 57.0g/kg</i><br><i>sand: 846.0g/kg</i><br><i>silt: 98.0g/kg</i>",
          "<b>ocs: 58.0t/ha</b><br><i>clay: 73.0g/kg</i><br><i>sand: 815.0g/kg</i><br><i>silt: 112.0g/kg</i>",
          "<b>ocs: 55.0t/ha</b><br><i>clay: 53.0g/kg</i><br><i>sand: 840.0g/kg</i><br><i>silt: 108.0g/kg</i>",
          "<b>ocs: 79.0t/ha</b><br><i>clay: 61.0g/kg</i><br><i>sand: 845.0g/kg</i><br><i>silt: 93.0g/kg</i>",
          "<b>ocs: 59.0t/ha</b><br><i>clay: 50.0g/kg</i><br><i>sand: 857.0g/kg</i><br><i>silt: 93.0g/kg</i>",
          "<b>ocs: 61.0t/ha</b><br><i>clay: 62.0g/kg</i><br><i>sand: 830.0g/kg</i><br><i>silt: 106.0g/kg</i>",
          "<b>ocs: 69.0t/ha</b><br><i>clay: 65.0g/kg</i><br><i>sand: 841.0g/kg</i><br><i>silt: 92.0g/kg</i>",
          "<b>ocs: 59.0t/ha</b><br><i>clay: 71.0g/kg</i><br><i>sand: 791.0g/kg</i><br><i>silt: 138.0g/kg</i>",
          "<b>ocs: 63.0t/ha</b><br><i>clay: 111.0g/kg</i><br><i>sand: 759.0g/kg</i><br><i>silt: 132.0g/kg</i>",
          "<b>ocs: 64.0t/ha</b><br><i>clay: 49.0g/kg</i><br><i>sand: 864.0g/kg</i><br><i>silt: 87.0g/kg</i>",
          "<b>ocs: 64.0t/ha</b><br><i>clay: 71.0g/kg</i><br><i>sand: 846.0g/kg</i><br><i>silt: 84.0g/kg</i>",
          "<b>ocs: 68.0t/ha</b><br><i>clay: 65.0g/kg</i><br><i>sand: 836.0g/kg</i><br><i>silt: 98.0g/kg</i>",
          "<b>ocs: 63.0t/ha</b><br><i>clay: 60.0g/kg</i><br><i>sand: 833.0g/kg</i><br><i>silt: 107.0g/kg</i>",
          "<b>ocs: 78.0t/ha</b><br><i>clay: 67.0g/kg</i><br><i>sand: 838.0g/kg</i><br><i>silt: 95.0g/kg</i>",
          "<b>ocs: 63.0t/ha</b><br><i>clay: 65.0g/kg</i><br><i>sand: 826.0g/kg</i><br><i>silt: 109.0g/kg</i>",
          "<b>ocs: 57.0t/ha</b><br><i>clay: 66.0g/kg</i><br><i>sand: 810.0g/kg</i><br><i>silt: 125.0g/kg</i>",
          "<b>ocs: 60.0t/ha</b><br><i>clay: 100.0g/kg</i><br><i>sand: 649.0g/kg</i><br><i>silt: 252.0g/kg</i>",
          "<b>ocs: 61.0t/ha</b><br><i>clay: 104.0g/kg</i><br><i>sand: 786.0g/kg</i><br><i>silt: 111.0g/kg</i>",
          "<b>ocs: 60.0t/ha</b><br><i>clay: 84.0g/kg</i><br><i>sand: 801.0g/kg</i><br><i>silt: 117.0g/kg</i>",
          "<b>ocs: 58.0t/ha</b><br><i>clay: 70.0g/kg</i><br><i>sand: 802.0g/kg</i><br><i>silt: 128.0g/kg</i>",
          "<b>ocs: 63.0t/ha</b><br><i>clay: 57.0g/kg</i><br><i>sand: 807.0g/kg</i><br><i>silt: 136.0g/kg</i>",
          "<b>ocs: 55.0t/ha</b><br><i>clay: 44.0g/kg</i><br><i>sand: 870.0g/kg</i><br><i>silt: 86.0g/kg</i>",
          "<b>ocs: 64.0t/ha</b><br><i>clay: 75.0g/kg</i><br><i>sand: 807.0g/kg</i><br><i>silt: 118.0g/kg</i>",
          "<b>ocs: 57.0t/ha</b><br><i>clay: 87.0g/kg</i><br><i>sand: 729.0g/kg</i><br><i>silt: 183.0g/kg</i>",
          "<b>ocs: 49.0t/ha</b><br><i>clay: 64.0g/kg</i><br><i>sand: 820.0g/kg</i><br><i>silt: 115.0g/kg</i>"
         ],
         "lat": [
          55.968112,
          55.968992,
          55.973638,
          55.987971,
          56.002359,
          56.007067,
          56.007878,
          56.011454,
          56.011601,
          56.01288,
          56.015233,
          56.020904,
          56.02151,
          56.021804,
          56.02274,
          56.024545,
          56.029283,
          56.031167,
          56.031188,
          56.032151,
          56.032678,
          56.033497,
          56.042066,
          56.045682,
          56.052395,
          56.059143,
          56.070645,
          56.073107,
          56.076819,
          56.080053,
          56.093629,
          56.101648,
          56.102895,
          56.103432,
          56.108381,
          56.112565,
          56.115258,
          56.122264,
          56.123927,
          56.123967,
          56.126994,
          56.136463,
          56.164436,
          56.170702,
          56.177007,
          56.187846,
          56.207379,
          56.212832,
          56.219245
         ],
         "lon": [
          9.194132,
          8.846122,
          9.264582,
          9.068934,
          9.171681,
          8.733466,
          9.155495,
          9.19478,
          9.119617,
          9.063209,
          9.091774,
          9.046254,
          9.010658,
          9.321854,
          8.77494,
          8.983937,
          8.800215,
          9.205038,
          9.339581,
          9.134233,
          8.698331,
          8.827812,
          8.894648,
          9.217804,
          9.050075,
          9.017699,
          9.041754,
          9.1996,
          9.11822,
          8.891612,
          8.880051,
          8.936305,
          9.293781,
          9.162701,
          9.218051,
          8.807944,
          8.815454,
          9.249168,
          8.727942,
          8.96254,
          8.914737,
          9.080804,
          9.26652,
          8.92046,
          8.829828,
          9.00154,
          9.23711,
          9.332694,
          8.77554
         ],
         "marker": {
          "color": "red",
          "opacity": 0.5,
          "size": [
           11.666666666666666,
           13.333333333333334,
           15.666666666666668,
           14,
           16.666666666666668,
           18.666666666666664,
           14.333333333333332,
           11.333333333333334,
           10.666666666666666,
           15,
           12.333333333333334,
           13.333333333333334,
           11,
           11.333333333333334,
           16,
           12,
           14.333333333333332,
           15.333333333333332,
           12.666666666666666,
           14,
           13.666666666666666,
           12.333333333333334,
           15.333333333333332,
           19.666666666666664,
           14,
           13,
           12,
           20,
           13.333333333333334,
           14,
           16.666666666666668,
           13.333333333333334,
           14.666666666666668,
           15,
           15,
           16.333333333333332,
           14.666666666666668,
           19.666666666666664,
           14.666666666666668,
           12.666666666666666,
           13.666666666666666,
           14,
           13.666666666666666,
           13,
           14.666666666666668,
           12,
           15,
           12.666666666666666,
           10
          ]
         },
         "mode": "markers",
         "text": [
          "ocs",
          "ocs",
          "ocs",
          "ocs",
          "ocs",
          "ocs",
          "ocs",
          "ocs",
          "ocs",
          "ocs",
          "ocs",
          "ocs",
          "ocs",
          "ocs",
          "ocs",
          "ocs",
          "ocs",
          "ocs",
          "ocs",
          "ocs",
          "ocs",
          "ocs",
          "ocs",
          "ocs",
          "ocs",
          "ocs",
          "ocs",
          "ocs",
          "ocs",
          "ocs",
          "ocs",
          "ocs",
          "ocs",
          "ocs",
          "ocs",
          "ocs",
          "ocs",
          "ocs",
          "ocs",
          "ocs",
          "ocs",
          "ocs",
          "ocs",
          "ocs",
          "ocs",
          "ocs",
          "ocs",
          "ocs",
          "ocs"
         ],
         "type": "scattermapbox"
        }
       ],
       "layout": {
        "mapbox": {
         "bounds": {
          "east": 10.622081000000003,
          "north": 56.72151100000001,
          "south": 55.46584599999999,
          "west": 7.415830999999997
         },
         "center": {
          "lat": 56.093678499999996,
          "lon": 9.018956
         },
         "style": "carto-positron",
         "zoom": 3
        },
        "template": {
         "data": {
          "bar": [
           {
            "error_x": {
             "color": "#2a3f5f"
            },
            "error_y": {
             "color": "#2a3f5f"
            },
            "marker": {
             "line": {
              "color": "#E5ECF6",
              "width": 0.5
             },
             "pattern": {
              "fillmode": "overlay",
              "size": 10,
              "solidity": 0.2
             }
            },
            "type": "bar"
           }
          ],
          "barpolar": [
           {
            "marker": {
             "line": {
              "color": "#E5ECF6",
              "width": 0.5
             },
             "pattern": {
              "fillmode": "overlay",
              "size": 10,
              "solidity": 0.2
             }
            },
            "type": "barpolar"
           }
          ],
          "carpet": [
           {
            "aaxis": {
             "endlinecolor": "#2a3f5f",
             "gridcolor": "white",
             "linecolor": "white",
             "minorgridcolor": "white",
             "startlinecolor": "#2a3f5f"
            },
            "baxis": {
             "endlinecolor": "#2a3f5f",
             "gridcolor": "white",
             "linecolor": "white",
             "minorgridcolor": "white",
             "startlinecolor": "#2a3f5f"
            },
            "type": "carpet"
           }
          ],
          "choropleth": [
           {
            "colorbar": {
             "outlinewidth": 0,
             "ticks": ""
            },
            "type": "choropleth"
           }
          ],
          "contour": [
           {
            "colorbar": {
             "outlinewidth": 0,
             "ticks": ""
            },
            "colorscale": [
             [
              0,
              "#0d0887"
             ],
             [
              0.1111111111111111,
              "#46039f"
             ],
             [
              0.2222222222222222,
              "#7201a8"
             ],
             [
              0.3333333333333333,
              "#9c179e"
             ],
             [
              0.4444444444444444,
              "#bd3786"
             ],
             [
              0.5555555555555556,
              "#d8576b"
             ],
             [
              0.6666666666666666,
              "#ed7953"
             ],
             [
              0.7777777777777778,
              "#fb9f3a"
             ],
             [
              0.8888888888888888,
              "#fdca26"
             ],
             [
              1,
              "#f0f921"
             ]
            ],
            "type": "contour"
           }
          ],
          "contourcarpet": [
           {
            "colorbar": {
             "outlinewidth": 0,
             "ticks": ""
            },
            "type": "contourcarpet"
           }
          ],
          "heatmap": [
           {
            "colorbar": {
             "outlinewidth": 0,
             "ticks": ""
            },
            "colorscale": [
             [
              0,
              "#0d0887"
             ],
             [
              0.1111111111111111,
              "#46039f"
             ],
             [
              0.2222222222222222,
              "#7201a8"
             ],
             [
              0.3333333333333333,
              "#9c179e"
             ],
             [
              0.4444444444444444,
              "#bd3786"
             ],
             [
              0.5555555555555556,
              "#d8576b"
             ],
             [
              0.6666666666666666,
              "#ed7953"
             ],
             [
              0.7777777777777778,
              "#fb9f3a"
             ],
             [
              0.8888888888888888,
              "#fdca26"
             ],
             [
              1,
              "#f0f921"
             ]
            ],
            "type": "heatmap"
           }
          ],
          "heatmapgl": [
           {
            "colorbar": {
             "outlinewidth": 0,
             "ticks": ""
            },
            "colorscale": [
             [
              0,
              "#0d0887"
             ],
             [
              0.1111111111111111,
              "#46039f"
             ],
             [
              0.2222222222222222,
              "#7201a8"
             ],
             [
              0.3333333333333333,
              "#9c179e"
             ],
             [
              0.4444444444444444,
              "#bd3786"
             ],
             [
              0.5555555555555556,
              "#d8576b"
             ],
             [
              0.6666666666666666,
              "#ed7953"
             ],
             [
              0.7777777777777778,
              "#fb9f3a"
             ],
             [
              0.8888888888888888,
              "#fdca26"
             ],
             [
              1,
              "#f0f921"
             ]
            ],
            "type": "heatmapgl"
           }
          ],
          "histogram": [
           {
            "marker": {
             "pattern": {
              "fillmode": "overlay",
              "size": 10,
              "solidity": 0.2
             }
            },
            "type": "histogram"
           }
          ],
          "histogram2d": [
           {
            "colorbar": {
             "outlinewidth": 0,
             "ticks": ""
            },
            "colorscale": [
             [
              0,
              "#0d0887"
             ],
             [
              0.1111111111111111,
              "#46039f"
             ],
             [
              0.2222222222222222,
              "#7201a8"
             ],
             [
              0.3333333333333333,
              "#9c179e"
             ],
             [
              0.4444444444444444,
              "#bd3786"
             ],
             [
              0.5555555555555556,
              "#d8576b"
             ],
             [
              0.6666666666666666,
              "#ed7953"
             ],
             [
              0.7777777777777778,
              "#fb9f3a"
             ],
             [
              0.8888888888888888,
              "#fdca26"
             ],
             [
              1,
              "#f0f921"
             ]
            ],
            "type": "histogram2d"
           }
          ],
          "histogram2dcontour": [
           {
            "colorbar": {
             "outlinewidth": 0,
             "ticks": ""
            },
            "colorscale": [
             [
              0,
              "#0d0887"
             ],
             [
              0.1111111111111111,
              "#46039f"
             ],
             [
              0.2222222222222222,
              "#7201a8"
             ],
             [
              0.3333333333333333,
              "#9c179e"
             ],
             [
              0.4444444444444444,
              "#bd3786"
             ],
             [
              0.5555555555555556,
              "#d8576b"
             ],
             [
              0.6666666666666666,
              "#ed7953"
             ],
             [
              0.7777777777777778,
              "#fb9f3a"
             ],
             [
              0.8888888888888888,
              "#fdca26"
             ],
             [
              1,
              "#f0f921"
             ]
            ],
            "type": "histogram2dcontour"
           }
          ],
          "mesh3d": [
           {
            "colorbar": {
             "outlinewidth": 0,
             "ticks": ""
            },
            "type": "mesh3d"
           }
          ],
          "parcoords": [
           {
            "line": {
             "colorbar": {
              "outlinewidth": 0,
              "ticks": ""
             }
            },
            "type": "parcoords"
           }
          ],
          "pie": [
           {
            "automargin": true,
            "type": "pie"
           }
          ],
          "scatter": [
           {
            "fillpattern": {
             "fillmode": "overlay",
             "size": 10,
             "solidity": 0.2
            },
            "type": "scatter"
           }
          ],
          "scatter3d": [
           {
            "line": {
             "colorbar": {
              "outlinewidth": 0,
              "ticks": ""
             }
            },
            "marker": {
             "colorbar": {
              "outlinewidth": 0,
              "ticks": ""
             }
            },
            "type": "scatter3d"
           }
          ],
          "scattercarpet": [
           {
            "marker": {
             "colorbar": {
              "outlinewidth": 0,
              "ticks": ""
             }
            },
            "type": "scattercarpet"
           }
          ],
          "scattergeo": [
           {
            "marker": {
             "colorbar": {
              "outlinewidth": 0,
              "ticks": ""
             }
            },
            "type": "scattergeo"
           }
          ],
          "scattergl": [
           {
            "marker": {
             "colorbar": {
              "outlinewidth": 0,
              "ticks": ""
             }
            },
            "type": "scattergl"
           }
          ],
          "scattermapbox": [
           {
            "marker": {
             "colorbar": {
              "outlinewidth": 0,
              "ticks": ""
             }
            },
            "type": "scattermapbox"
           }
          ],
          "scatterpolar": [
           {
            "marker": {
             "colorbar": {
              "outlinewidth": 0,
              "ticks": ""
             }
            },
            "type": "scatterpolar"
           }
          ],
          "scatterpolargl": [
           {
            "marker": {
             "colorbar": {
              "outlinewidth": 0,
              "ticks": ""
             }
            },
            "type": "scatterpolargl"
           }
          ],
          "scatterternary": [
           {
            "marker": {
             "colorbar": {
              "outlinewidth": 0,
              "ticks": ""
             }
            },
            "type": "scatterternary"
           }
          ],
          "surface": [
           {
            "colorbar": {
             "outlinewidth": 0,
             "ticks": ""
            },
            "colorscale": [
             [
              0,
              "#0d0887"
             ],
             [
              0.1111111111111111,
              "#46039f"
             ],
             [
              0.2222222222222222,
              "#7201a8"
             ],
             [
              0.3333333333333333,
              "#9c179e"
             ],
             [
              0.4444444444444444,
              "#bd3786"
             ],
             [
              0.5555555555555556,
              "#d8576b"
             ],
             [
              0.6666666666666666,
              "#ed7953"
             ],
             [
              0.7777777777777778,
              "#fb9f3a"
             ],
             [
              0.8888888888888888,
              "#fdca26"
             ],
             [
              1,
              "#f0f921"
             ]
            ],
            "type": "surface"
           }
          ],
          "table": [
           {
            "cells": {
             "fill": {
              "color": "#EBF0F8"
             },
             "line": {
              "color": "white"
             }
            },
            "header": {
             "fill": {
              "color": "#C8D4E3"
             },
             "line": {
              "color": "white"
             }
            },
            "type": "table"
           }
          ]
         },
         "layout": {
          "annotationdefaults": {
           "arrowcolor": "#2a3f5f",
           "arrowhead": 0,
           "arrowwidth": 1
          },
          "autotypenumbers": "strict",
          "coloraxis": {
           "colorbar": {
            "outlinewidth": 0,
            "ticks": ""
           }
          },
          "colorscale": {
           "diverging": [
            [
             0,
             "#8e0152"
            ],
            [
             0.1,
             "#c51b7d"
            ],
            [
             0.2,
             "#de77ae"
            ],
            [
             0.3,
             "#f1b6da"
            ],
            [
             0.4,
             "#fde0ef"
            ],
            [
             0.5,
             "#f7f7f7"
            ],
            [
             0.6,
             "#e6f5d0"
            ],
            [
             0.7,
             "#b8e186"
            ],
            [
             0.8,
             "#7fbc41"
            ],
            [
             0.9,
             "#4d9221"
            ],
            [
             1,
             "#276419"
            ]
           ],
           "sequential": [
            [
             0,
             "#0d0887"
            ],
            [
             0.1111111111111111,
             "#46039f"
            ],
            [
             0.2222222222222222,
             "#7201a8"
            ],
            [
             0.3333333333333333,
             "#9c179e"
            ],
            [
             0.4444444444444444,
             "#bd3786"
            ],
            [
             0.5555555555555556,
             "#d8576b"
            ],
            [
             0.6666666666666666,
             "#ed7953"
            ],
            [
             0.7777777777777778,
             "#fb9f3a"
            ],
            [
             0.8888888888888888,
             "#fdca26"
            ],
            [
             1,
             "#f0f921"
            ]
           ],
           "sequentialminus": [
            [
             0,
             "#0d0887"
            ],
            [
             0.1111111111111111,
             "#46039f"
            ],
            [
             0.2222222222222222,
             "#7201a8"
            ],
            [
             0.3333333333333333,
             "#9c179e"
            ],
            [
             0.4444444444444444,
             "#bd3786"
            ],
            [
             0.5555555555555556,
             "#d8576b"
            ],
            [
             0.6666666666666666,
             "#ed7953"
            ],
            [
             0.7777777777777778,
             "#fb9f3a"
            ],
            [
             0.8888888888888888,
             "#fdca26"
            ],
            [
             1,
             "#f0f921"
            ]
           ]
          },
          "colorway": [
           "#636efa",
           "#EF553B",
           "#00cc96",
           "#ab63fa",
           "#FFA15A",
           "#19d3f3",
           "#FF6692",
           "#B6E880",
           "#FF97FF",
           "#FECB52"
          ],
          "font": {
           "color": "#2a3f5f"
          },
          "geo": {
           "bgcolor": "white",
           "lakecolor": "white",
           "landcolor": "#E5ECF6",
           "showlakes": true,
           "showland": true,
           "subunitcolor": "white"
          },
          "hoverlabel": {
           "align": "left"
          },
          "hovermode": "closest",
          "mapbox": {
           "style": "light"
          },
          "paper_bgcolor": "white",
          "plot_bgcolor": "#E5ECF6",
          "polar": {
           "angularaxis": {
            "gridcolor": "white",
            "linecolor": "white",
            "ticks": ""
           },
           "bgcolor": "#E5ECF6",
           "radialaxis": {
            "gridcolor": "white",
            "linecolor": "white",
            "ticks": ""
           }
          },
          "scene": {
           "xaxis": {
            "backgroundcolor": "#E5ECF6",
            "gridcolor": "white",
            "gridwidth": 2,
            "linecolor": "white",
            "showbackground": true,
            "ticks": "",
            "zerolinecolor": "white"
           },
           "yaxis": {
            "backgroundcolor": "#E5ECF6",
            "gridcolor": "white",
            "gridwidth": 2,
            "linecolor": "white",
            "showbackground": true,
            "ticks": "",
            "zerolinecolor": "white"
           },
           "zaxis": {
            "backgroundcolor": "#E5ECF6",
            "gridcolor": "white",
            "gridwidth": 2,
            "linecolor": "white",
            "showbackground": true,
            "ticks": "",
            "zerolinecolor": "white"
           }
          },
          "shapedefaults": {
           "line": {
            "color": "#2a3f5f"
           }
          },
          "ternary": {
           "aaxis": {
            "gridcolor": "white",
            "linecolor": "white",
            "ticks": ""
           },
           "baxis": {
            "gridcolor": "white",
            "linecolor": "white",
            "ticks": ""
           },
           "bgcolor": "#E5ECF6",
           "caxis": {
            "gridcolor": "white",
            "linecolor": "white",
            "ticks": ""
           }
          },
          "title": {
           "x": 0.05
          },
          "xaxis": {
           "automargin": true,
           "gridcolor": "white",
           "linecolor": "white",
           "ticks": "",
           "title": {
            "standoff": 15
           },
           "zerolinecolor": "white",
           "zerolinewidth": 2
          },
          "yaxis": {
           "automargin": true,
           "gridcolor": "white",
           "linecolor": "white",
           "ticks": "",
           "title": {
            "standoff": 15
           },
           "zerolinecolor": "white",
           "zerolinewidth": 2
          }
         }
        },
        "title": {
         "text": "<b>Soil OCS at 0-30cm</b><br>Showing points between (55.968112, 8.698331) and (56.219245, 9.339581)<br>Range for the region (t/ha): [49, 79]"
        }
       }
      }
     },
     "metadata": {},
     "output_type": "display_data"
    }
   ],
   "source": [
    "sg.plot_property_map('ocs')"
   ]
  },
  {
   "cell_type": "markdown",
   "metadata": {},
   "source": [
    "## Disclaimers\n",
    "\n",
    "*   Use of this package is subject to [ISRIC data and software policy](https://www.isric.org/about/data-policy).\n",
    "*   This package is licensed as [GPL-2](LICENSE)."
   ]
  }
 ],
 "metadata": {
  "kernelspec": {
   "display_name": ".venv",
   "language": "python",
   "name": "python3"
  },
  "language_info": {
   "codemirror_mode": {
    "name": "ipython",
    "version": 3
   },
   "file_extension": ".py",
   "mimetype": "text/x-python",
   "name": "python",
   "nbconvert_exporter": "python",
   "pygments_lexer": "ipython3",
   "version": "3.12.0"
  }
 },
 "nbformat": 4,
 "nbformat_minor": 2
}
