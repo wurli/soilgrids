{
 "cells": [
  {
   "cell_type": "markdown",
   "metadata": {},
   "source": [
    "# soilgrids\n",
    "\n",
    "This package provides a minimal wrapper for the ISRIC Soilgrids API, allowing \n",
    "users to query soil properties by latitude/longitude and to perform basic \n",
    "analyses on the returned data.\n",
    "\n",
    "Functions:\n",
    "\n",
    "*   `get_soilgrids()`: Provides a simple wrapper for the /properties/query\n",
    "    API endpoint, parsing the geojson response into a pandas DataFrame.\n",
    "        \n",
    "Classes:\n",
    "\n",
    "*   `SoilGrids()`: Provides methods for reading data from Soilgrids and basic \n",
    "    including utilities for aggregating and analysing the returned data.\n",
    "\n",
    "Useful links:\n",
    "\n",
    "*   Documentation for the API: <https://rest.isric.org/soilgrids/v2.0/docs>\n",
    "*   ISRIC REST entry page, including fair use policy: <https://rest.isric.org>\n",
    "*   ISRIC data and software policy: <https://www.isric.org/about/data-policy>\n",
    "*   Soilgrids FAQ: <https://www.isric.org/explore/soilgrids/faq-soilgrids>\n",
    "\n",
    "## Querying data using `SoilGrids`\n",
    "\n",
    "The following code reads in the mean values for clay, sand, silt and organic \n",
    "carbon stock (ocs) in the top 30cm of soil for a random set of 50 points \n",
    "within roughly 25km of \n",
    "[Herning, Denmark](https://en.wikipedia.org/wiki/Herning). Note that points can \n",
    "be queried at a maximum rate of 5/minute, so the following code takes about 10 \n",
    "minutes to run:"
   ]
  },
  {
   "cell_type": "code",
   "execution_count": 7,
   "metadata": {},
   "outputs": [
    {
     "data": {
      "text/markdown": [
       "|     lat |     lon | soil_property   | mapped_units   | target_units   | depth   |   mean |\n",
       "|--------:|--------:|:----------------|:---------------|:---------------|:--------|-------:|\n",
       "| 56.3866 | 8.88611 | clay            | g/kg           | %              | 0-5cm   |    120 |\n",
       "| 56.3866 | 8.88611 | clay            | g/kg           | %              | 5-15cm  |    117 |\n",
       "| 56.3866 | 8.88611 | clay            | g/kg           | %              | 15-30cm |    111 |\n",
       "| 56.3866 | 8.88611 | ocs             | t/ha           | kg/m²          | 0-30cm  |     69 |\n",
       "| 56.3866 | 8.88611 | sand            | g/kg           | %              | 0-5cm   |    719 |\n",
       "| 56.3866 | 8.88611 | sand            | g/kg           | %              | 5-15cm  |    727 |\n",
       "| 56.3866 | 8.88611 | sand            | g/kg           | %              | 15-30cm |    726 |\n",
       "| 56.3866 | 8.88611 | silt            | g/kg           | %              | 0-5cm   |    161 |\n",
       "| 56.3866 | 8.88611 | silt            | g/kg           | %              | 5-15cm  |    156 |\n",
       "| 56.3866 | 8.88611 | silt            | g/kg           | %              | 15-30cm |    163 |"
      ],
      "text/plain": [
       "<IPython.core.display.Markdown object>"
      ]
     },
     "metadata": {},
     "output_type": "display_data"
    }
   ],
   "source": [
    "import logging\n",
    "from soilgrids import SoilGrids\n",
    "import pandas as pd\n",
    "from IPython.display import Markdown as md\n",
    "\n",
    "# Turn off console logs for cleaner notebook output\n",
    "logging.getLogger('soilgrids').setLevel(logging.ERROR)\n",
    "\n",
    "# Helper for displaying tables as markdown\n",
    "show = lambda df: display(md(df.to_markdown(index=False)))\n",
    "\n",
    "sg = SoilGrids()\n",
    "\n",
    "sg.get_points_sample(\n",
    "    50,\n",
    "    lat_min=56.225297, lat_max=55.958103,\n",
    "    lon_min=8.662215, lon_max=9.354390,\n",
    "    soil_property=['clay', 'sand', 'silt', 'ocs'],\n",
    "    depth=['0-5cm', '5-15cm', '15-30cm', '0-30cm'],\n",
    "    value='mean'\n",
    ")\n",
    "\n",
    "# For brevity, only a subset of the data is shown\n",
    "show(data[0:15].filter([\n",
    "    'lat', 'lon', 'soil_property', 'mapped_units', \n",
    "    'target_units', 'depth', 'mean'\n",
    "]))"
   ]
  },
  {
   "cell_type": "markdown",
   "metadata": {},
   "source": [
    "## Get the property (clay, sand, silt) with the highest value for each point\n",
    "\n",
    "The `SoilGrids` class provides a handy utility `main_properties()` for finding\n",
    "the most abundant soil type (i.e. property) for each point. In this case, we\n",
    "see that the Herning region is quite sandy:"
   ]
  },
  {
   "cell_type": "code",
   "execution_count": 8,
   "metadata": {},
   "outputs": [
    {
     "data": {
      "text/markdown": [
       "|     lat |     lon | soil_property   |\n",
       "|--------:|--------:|:----------------|\n",
       "| 56.4323 | 8.80164 | sand            |"
      ],
      "text/plain": [
       "<IPython.core.display.Markdown object>"
      ]
     },
     "metadata": {},
     "output_type": "display_data"
    }
   ],
   "source": [
    "show(sg.main_properties())"
   ]
  },
  {
   "cell_type": "markdown",
   "metadata": {},
   "source": [
    "## Relationship between clay, sand, silt and organic carbon stock\n",
    "\n",
    "The `ocs_correlation()` method fits and displays summary statistics for a linear \n",
    "model with sand, clay and silt as predictors and OCS as the response variable. \n",
    "In this case, we find these soil properties are quite effective at predicting \n",
    "OCS, explaining around 90% of the variance:"
   ]
  },
  {
   "cell_type": "code",
   "execution_count": null,
   "metadata": {},
   "outputs": [],
   "source": [
    "print(sg.ocs_correlation(capture_output=True))"
   ]
  },
  {
   "cell_type": "markdown",
   "metadata": {},
   "source": [
    "## Disclaimers\n",
    "\n",
    "*   Use of this package is subject to [ISRIC data and software policy](https://www.isric.org/about/data-policy).\n",
    "*   This package is licensed as [GPL-2](LICENSE)."
   ]
  }
 ],
 "metadata": {
  "language_info": {
   "name": "python"
  }
 },
 "nbformat": 4,
 "nbformat_minor": 2
}
